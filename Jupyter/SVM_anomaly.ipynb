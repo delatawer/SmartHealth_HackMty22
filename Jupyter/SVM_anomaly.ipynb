{
 "cells": [
  {
   "cell_type": "markdown",
   "id": "e1cf2b89",
   "metadata": {},
   "source": [
    "## Get the SQL data "
   ]
  },
  {
   "cell_type": "code",
   "execution_count": 51,
   "id": "4dc541a1",
   "metadata": {},
   "outputs": [],
   "source": [
    "import numpy as np\n",
    "import pyodbc\n",
    "from numpy import quantile, where, random"
   ]
  },
  {
   "cell_type": "code",
   "execution_count": 52,
   "id": "c9972d60",
   "metadata": {},
   "outputs": [],
   "source": [
    "server = 'smarthealthdb.database.windows.net'\n",
    "database = 'SmarthHealth_DB'\n",
    "username = 'SmarthHealthDB'\n",
    "password = '5rUBXEMSREBsRzZ'   \n",
    "driver= '{ODBC Driver 17 for SQL Server}'"
   ]
  },
  {
   "cell_type": "code",
   "execution_count": 105,
   "id": "1a3e3e4e",
   "metadata": {},
   "outputs": [
    {
     "name": "stdout",
     "output_type": "stream",
     "text": [
      "[0.0, 0.0, 0.0, 0.0, 0.0, 0.0, 0.0, 0.0, 0.0, 0.0, 0.0, 0.0, 0.0, 0.0, 0.0, 0.0, 0.0, 0.0, 0.0, 0.0, 0.0, 0.0, 0.0, 0.0, 0.0, 0.0, 0.0, 0.0, 0.0, 0.0, 0.0, 0.0, 0.0, 0.0, 0.0, 0.0, 0.0, 0.0, 0.0, 0.0, 0.0, 0.0, 0.0, 0.0, 0.0, 0.0, 0.0, 0.0, 0.0, 0.0, 0.0, 0.0, 0.0, 0.0, 0.0, 0.0, 0.0, 0.0, 0.0, 0.0, 0.0, 0.0, 0.0, 0.0, 0.0, 0.0, 0.0, 0.0, 0.0, 0.0, 0.0, 0.0, 0.0, 0.0, 0.0, 0.0, 0.0, 0.0, 0.0, 0.0, 95.0, 95.0, 95.0, 95.0, 95.0, 95.0, 95.0, 95.0, 0.0, 0.0, 0.0, 0.0, 0.0, 0.0, 0.0, 0.0, 0.0, 0.0, 0.0, 0.0, 0.0, 0.0, 0.0, 0.0, 0.0, 0.0, 0.0, 0.0, 0.0, 99.0, 95.0, 95.0, 95.0, 95.0, 95.0, 95.0, 95.0, 95.0, 95.0, 95.0, 95.0, 95.0, 95.0, 95.0, 95.0, 95.0, 95.0, 95.0, 95.0, 95.0, 95.0, 95.0, 95.0, 95.0, 95.0, 95.0, 95.0, 95.0, 95.0, 95.0, 95.0, 95.0, 95.0, 95.0, 95.0, 95.0, 95.0, 95.0, 95.0, 95.0, 95.0, 95.0, 95.0, 95.0, 95.0, 95.0, 95.0, 95.0, 95.0, 95.0, 95.0, 95.0, 95.0, 95.0, 95.0, 95.0, 95.0, 95.0, 95.0, 95.0, 95.0, 95.0, 95.0, 95.0, 95.0, 95.0, 95.0, 95.0, 95.0, 95.0, 95.0, 95.0, 95.0, 95.0, 95.0, 95.0, 95.0, 95.0, 95.0, 95.0, 95.0, 95.0, 95.0, 95.0, 95.0, 95.0, 95.0, 95.0, 95.0, 95.0, 95.0, 95.0, 95.0, 95.0, 95.0, 95.0, 95.0, 95.0, 95.0, 95.0, 95.0, 95.0, 95.0, 95.0, 95.0, 95.0, 95.0, 95.0, 95.0, 95.0, 95.0, 95.0, 95.0, 95.0, 95.0, 95.0, 95.0, 95.0, 95.0, 95.0, 95.0, 95.0, 95.0, 95.0, 95.0, 95.0, 95.0, 95.0, 95.0, 95.0, 95.0, 95.0, 95.0, 95.0, 95.0, 95.0, 95.0, 95.0, 95.0, 95.0, 95.0, 95.0, 95.0, 95.0, 95.0, 95.0, 95.0, 95.0, 95.0, 95.0, 95.0, 95.0, 95.0, 95.0, 95.0, 95.0, 95.0, 95.0, 95.0, 95.0, 95.0, 95.0, 95.0, 95.0, 95.0, 95.0, 95.0, 95.0, 95.0, 95.0, 95.0, 95.0, 95.0, 95.0, 95.0, 95.0, 95.0, 95.0, 95.0, 95.0, 95.0, 95.0, 95.0, 95.0, 95.0, 95.0, 95.0, 95.0, 95.0, 95.0, 95.0, 95.0, 95.0, 95.0, 95.0, 95.0, 95.0, 95.0, 95.0, 95.0, 95.0, 95.0, 95.0, 95.0, 95.0, 95.0, 95.0, 95.0, 95.0, 95.0, 95.0, 95.0, 95.0, 95.0, 95.0, 95.0, 95.0, 95.0, 95.0, 95.0, 95.0, 95.0, 95.0, 95.0, 95.0, 95.0, 95.0, 95.0, 95.0, 95.0, 95.0, 95.0, 95.0, 95.0, 95.0, 95.0, 95.0, 95.0, 95.0, 95.0, 95.0, 95.0, 95.0, 95.0, 95.0, 95.0, 95.0, 95.0, 95.0, 95.0, 95.0, 95.0, 95.0, 95.0, 95.0, 95.0, 95.0, 95.0, 95.0, 95.0, 95.0, 95.0, 95.0, 95.0, 95.0, 42.0, 88.0, 88.0, 88.0, 88.0]\n"
     ]
    }
   ],
   "source": [
    "o2 = []\n",
    "pasos = []\n",
    "fcard = []\n",
    "data = []\n",
    "with pyodbc.connect('DRIVER='+driver+';SERVER=tcp:'+server+';PORT=1433;DATABASE='+database+';UID='+username+';PWD='+ password) as conn:\n",
    "            with conn.cursor() as cursor:\n",
    "                cursor.execute(\"SELECT * FROM Stats\")\n",
    "                row = cursor.fetchone()\n",
    "                while row:\n",
    "                    #print (str(row[1]) + \" \" + str(row[2]) + \" \" + str(row[3]) + \" \" + str(row[4]) + \" \" + str(row[5]))\n",
    "                    o2.append(row[2])\n",
    "                    pasos.append(row[3])\n",
    "                    fcard.append(row[4])\n",
    "                    data.append([row[2], row[3], row[4]])\n",
    "                    row = cursor.fetchone()\n",
    "                    \n",
    "print(o2)"
   ]
  },
  {
   "cell_type": "code",
   "execution_count": 106,
   "id": "eee5e7b4",
   "metadata": {},
   "outputs": [],
   "source": [
    "df = pd.DataFrame(data, columns = ['o2','pasos','fcard'])"
   ]
  },
  {
   "cell_type": "code",
   "execution_count": 107,
   "id": "d2e1670a",
   "metadata": {},
   "outputs": [
    {
     "data": {
      "text/html": [
       "<div>\n",
       "<style scoped>\n",
       "    .dataframe tbody tr th:only-of-type {\n",
       "        vertical-align: middle;\n",
       "    }\n",
       "\n",
       "    .dataframe tbody tr th {\n",
       "        vertical-align: top;\n",
       "    }\n",
       "\n",
       "    .dataframe thead th {\n",
       "        text-align: right;\n",
       "    }\n",
       "</style>\n",
       "<table border=\"1\" class=\"dataframe\">\n",
       "  <thead>\n",
       "    <tr style=\"text-align: right;\">\n",
       "      <th></th>\n",
       "      <th>o2</th>\n",
       "      <th>pasos</th>\n",
       "      <th>fcard</th>\n",
       "    </tr>\n",
       "  </thead>\n",
       "  <tbody>\n",
       "    <tr>\n",
       "      <th>count</th>\n",
       "      <td>380.000000</td>\n",
       "      <td>380.000000</td>\n",
       "      <td>380.000000</td>\n",
       "    </tr>\n",
       "    <tr>\n",
       "      <th>mean</th>\n",
       "      <td>69.547368</td>\n",
       "      <td>48.665789</td>\n",
       "      <td>37.386842</td>\n",
       "    </tr>\n",
       "    <tr>\n",
       "      <th>std</th>\n",
       "      <td>41.994099</td>\n",
       "      <td>38.567166</td>\n",
       "      <td>25.712031</td>\n",
       "    </tr>\n",
       "    <tr>\n",
       "      <th>min</th>\n",
       "      <td>0.000000</td>\n",
       "      <td>0.000000</td>\n",
       "      <td>-4.000000</td>\n",
       "    </tr>\n",
       "    <tr>\n",
       "      <th>25%</th>\n",
       "      <td>0.000000</td>\n",
       "      <td>0.000000</td>\n",
       "      <td>17.000000</td>\n",
       "    </tr>\n",
       "    <tr>\n",
       "      <th>50%</th>\n",
       "      <td>95.000000</td>\n",
       "      <td>64.500000</td>\n",
       "      <td>38.500000</td>\n",
       "    </tr>\n",
       "    <tr>\n",
       "      <th>75%</th>\n",
       "      <td>95.000000</td>\n",
       "      <td>82.250000</td>\n",
       "      <td>55.000000</td>\n",
       "    </tr>\n",
       "    <tr>\n",
       "      <th>max</th>\n",
       "      <td>99.000000</td>\n",
       "      <td>100.000000</td>\n",
       "      <td>95.000000</td>\n",
       "    </tr>\n",
       "  </tbody>\n",
       "</table>\n",
       "</div>"
      ],
      "text/plain": [
       "               o2       pasos       fcard\n",
       "count  380.000000  380.000000  380.000000\n",
       "mean    69.547368   48.665789   37.386842\n",
       "std     41.994099   38.567166   25.712031\n",
       "min      0.000000    0.000000   -4.000000\n",
       "25%      0.000000    0.000000   17.000000\n",
       "50%     95.000000   64.500000   38.500000\n",
       "75%     95.000000   82.250000   55.000000\n",
       "max     99.000000  100.000000   95.000000"
      ]
     },
     "execution_count": 107,
     "metadata": {},
     "output_type": "execute_result"
    }
   ],
   "source": [
    "df.describe()"
   ]
  },
  {
   "cell_type": "markdown",
   "id": "4ec51d8b",
   "metadata": {},
   "source": [
    "#### Because we get the data from a prototype, we got a lot of 0, we replace them with the mean"
   ]
  },
  {
   "cell_type": "code",
   "execution_count": 108,
   "id": "293aa47c",
   "metadata": {},
   "outputs": [],
   "source": [
    "condition  = (df['fcard'] <= 0 )\n",
    "df.loc[condition, 'fcard'] = df['fcard'].mean()\n",
    "condition  = (df['pasos'] <= 0 )\n",
    "df.loc[condition, 'pasos'] = df['pasos'].mean()\n",
    "condition  = (df['o2'] <= 0 )\n",
    "df.loc[condition, 'o2'] = df['o2'].mean()"
   ]
  },
  {
   "cell_type": "code",
   "execution_count": 109,
   "id": "bd46a2e6",
   "metadata": {},
   "outputs": [
    {
     "data": {
      "text/html": [
       "<div>\n",
       "<style scoped>\n",
       "    .dataframe tbody tr th:only-of-type {\n",
       "        vertical-align: middle;\n",
       "    }\n",
       "\n",
       "    .dataframe tbody tr th {\n",
       "        vertical-align: top;\n",
       "    }\n",
       "\n",
       "    .dataframe thead th {\n",
       "        text-align: right;\n",
       "    }\n",
       "</style>\n",
       "<table border=\"1\" class=\"dataframe\">\n",
       "  <thead>\n",
       "    <tr style=\"text-align: right;\">\n",
       "      <th></th>\n",
       "      <th>o2</th>\n",
       "      <th>pasos</th>\n",
       "      <th>fcard</th>\n",
       "    </tr>\n",
       "  </thead>\n",
       "  <tbody>\n",
       "    <tr>\n",
       "      <th>count</th>\n",
       "      <td>380.000000</td>\n",
       "      <td>380.000000</td>\n",
       "      <td>380.000000</td>\n",
       "    </tr>\n",
       "    <tr>\n",
       "      <th>mean</th>\n",
       "      <td>88.032327</td>\n",
       "      <td>62.240983</td>\n",
       "      <td>41.866863</td>\n",
       "    </tr>\n",
       "    <tr>\n",
       "      <th>std</th>\n",
       "      <td>11.486376</td>\n",
       "      <td>25.303428</td>\n",
       "      <td>21.700767</td>\n",
       "    </tr>\n",
       "    <tr>\n",
       "      <th>min</th>\n",
       "      <td>42.000000</td>\n",
       "      <td>1.000000</td>\n",
       "      <td>3.000000</td>\n",
       "    </tr>\n",
       "    <tr>\n",
       "      <th>25%</th>\n",
       "      <td>69.547368</td>\n",
       "      <td>48.665789</td>\n",
       "      <td>27.500000</td>\n",
       "    </tr>\n",
       "    <tr>\n",
       "      <th>50%</th>\n",
       "      <td>95.000000</td>\n",
       "      <td>64.500000</td>\n",
       "      <td>38.693421</td>\n",
       "    </tr>\n",
       "    <tr>\n",
       "      <th>75%</th>\n",
       "      <td>95.000000</td>\n",
       "      <td>82.250000</td>\n",
       "      <td>55.000000</td>\n",
       "    </tr>\n",
       "    <tr>\n",
       "      <th>max</th>\n",
       "      <td>99.000000</td>\n",
       "      <td>100.000000</td>\n",
       "      <td>95.000000</td>\n",
       "    </tr>\n",
       "  </tbody>\n",
       "</table>\n",
       "</div>"
      ],
      "text/plain": [
       "               o2       pasos       fcard\n",
       "count  380.000000  380.000000  380.000000\n",
       "mean    88.032327   62.240983   41.866863\n",
       "std     11.486376   25.303428   21.700767\n",
       "min     42.000000    1.000000    3.000000\n",
       "25%     69.547368   48.665789   27.500000\n",
       "50%     95.000000   64.500000   38.693421\n",
       "75%     95.000000   82.250000   55.000000\n",
       "max     99.000000  100.000000   95.000000"
      ]
     },
     "execution_count": 109,
     "metadata": {},
     "output_type": "execute_result"
    }
   ],
   "source": [
    "df.describe()"
   ]
  },
  {
   "cell_type": "code",
   "execution_count": 110,
   "id": "b4abe3f5",
   "metadata": {},
   "outputs": [
    {
     "name": "stdout",
     "output_type": "stream",
     "text": [
      "0    37.386842\n",
      "1    37.386842\n",
      "2    37.386842\n",
      "3    37.386842\n",
      "4    31.000000\n",
      "5    31.000000\n",
      "6    30.000000\n",
      "7    30.000000\n",
      "8    30.000000\n",
      "9    30.000000\n",
      "Name: fcard, dtype: float64\n"
     ]
    }
   ],
   "source": [
    "print(df['fcard'].head(10))"
   ]
  },
  {
   "cell_type": "markdown",
   "id": "9dbd13eb",
   "metadata": {},
   "source": [
    "## Anomaly Detection with SVM"
   ]
  },
  {
   "cell_type": "code",
   "execution_count": 135,
   "id": "cd81d7fc",
   "metadata": {},
   "outputs": [],
   "source": [
    "from sklearn.svm import OneClassSVM\n",
    "import matplotlib.pyplot as plt"
   ]
  },
  {
   "cell_type": "code",
   "execution_count": 136,
   "id": "b5ce6759",
   "metadata": {},
   "outputs": [
    {
     "name": "stdout",
     "output_type": "stream",
     "text": [
      "OneClassSVM(gamma=0.001, nu=0.3)\n"
     ]
    }
   ],
   "source": [
    "svm = OneClassSVM(kernel='rbf', gamma=0.001, nu=0.3)\n",
    "print(svm)"
   ]
  },
  {
   "cell_type": "code",
   "execution_count": 137,
   "id": "482d0d32",
   "metadata": {},
   "outputs": [],
   "source": [
    "fcard = df['fcard'].to_numpy()\n",
    "fcard.resize((len(fcard), 1))\n",
    "svm.fit(fcard)\n",
    "pred = svm.predict(fcard)"
   ]
  },
  {
   "cell_type": "code",
   "execution_count": 138,
   "id": "78da3c59",
   "metadata": {},
   "outputs": [],
   "source": [
    "anom_index = where(pred==-1)\n",
    "values = fcard[anom_index]"
   ]
  },
  {
   "cell_type": "code",
   "execution_count": 139,
   "id": "a9770411",
   "metadata": {},
   "outputs": [
    {
     "data": {
      "image/png": "[encoded data removed]",
      "text/plain": [
       "<Figure size 432x288 with 1 Axes>"
      ]
     },
     "metadata": {
      "needs_background": "light"
     },
     "output_type": "display_data"
    }
   ],
   "source": [
    "plt.scatter(fcard, fcard)\n",
    "plt.scatter(values, values, color='r')\n",
    "plt.show()"
   ]
  },
  {
   "cell_type": "code",
   "execution_count": 141,
   "id": "9b90338e",
   "metadata": {},
   "outputs": [],
   "source": [
    "df['ano_fcad'] = pred"
   ]
  },
  {
   "cell_type": "code",
   "execution_count": 142,
   "id": "528de64e",
   "metadata": {},
   "outputs": [
    {
     "name": "stdout",
     "output_type": "stream",
     "text": [
      "OneClassSVM(gamma=0.01, nu=0.003)\n"
     ]
    }
   ],
   "source": [
    "svm = OneClassSVM(kernel='rbf', gamma=0.01, nu=0.003)\n",
    "print(svm)"
   ]
  },
  {
   "cell_type": "code",
   "execution_count": 143,
   "id": "7f0420fb",
   "metadata": {},
   "outputs": [],
   "source": [
    "o2 = df['o2'].to_numpy()\n",
    "o2.resize((len(o2), 1))\n",
    "svm.fit(o2)\n",
    "pred = svm.predict(o2)"
   ]
  },
  {
   "cell_type": "code",
   "execution_count": 144,
   "id": "c6b57cac",
   "metadata": {},
   "outputs": [],
   "source": [
    "anom_index = where(pred==-1)\n",
    "values = o2[anom_index]"
   ]
  },
  {
   "cell_type": "code",
   "execution_count": 145,
   "id": "02927b4f",
   "metadata": {},
   "outputs": [
    {
     "data": {
      "image/png": "[encoded data removed]",
      "text/plain": [
       "<Figure size 432x288 with 1 Axes>"
      ]
     },
     "metadata": {
      "needs_background": "light"
     },
     "output_type": "display_data"
    }
   ],
   "source": [
    "plt.scatter(o2, o2)\n",
    "plt.scatter(values, values, color='r')\n",
    "plt.show()"
   ]
  },
  {
   "cell_type": "code",
   "execution_count": 146,
   "id": "2aa19f47",
   "metadata": {},
   "outputs": [],
   "source": [
    "df['ano_o2'] = pred"
   ]
  },
  {
   "cell_type": "code",
   "execution_count": 148,
   "id": "f62e3e8f",
   "metadata": {},
   "outputs": [],
   "source": [
    "df.to_csv(\"dataset.csv\", index = True)"
   ]
  },
  {
   "cell_type": "code",
   "execution_count": null,
   "id": "fa3ed365",
   "metadata": {},
   "outputs": [],
   "source": []
  }
 ],
 "metadata": {
  "kernelspec": {
   "display_name": "Python 3 (ipykernel)",
   "language": "python",
   "name": "python3"
  },
  "language_info": {
   "codemirror_mode": {
    "name": "ipython",
    "version": 3
   },
   "file_extension": ".py",
   "mimetype": "text/x-python",
   "name": "python",
   "nbconvert_exporter": "python",
   "pygments_lexer": "ipython3",
   "version": "3.8.8"
  }
 },
 "nbformat": 4,
 "nbformat_minor": 5
}
